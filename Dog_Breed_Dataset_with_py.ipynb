{
  "nbformat": 4,
  "nbformat_minor": 0,
  "metadata": {
    "colab": {
      "name": "Copy of Dog_Breed_Dataset.ipynb",
      "version": "0.3.2",
      "provenance": [],
      "include_colab_link": true
    },
    "kernelspec": {
      "name": "python3",
      "display_name": "Python 3"
    },
    "accelerator": "GPU"
  },
  "cells": [
    {
      "cell_type": "markdown",
      "metadata": {
        "id": "view-in-github",
        "colab_type": "text"
      },
      "source": [
        "<a href=\"https://colab.research.google.com/github/stanimman/Fast_ai/blob/master/Dog_Breed_Dataset_with_py.ipynb\" target=\"_parent\"><img src=\"https://colab.research.google.com/assets/colab-badge.svg\" alt=\"Open In Colab\"/></a>"
      ]
    },
    {
      "metadata": {
        "id": "2kfs36vfUK8W",
        "colab_type": "code",
        "outputId": "8040565b-dc8a-4360-aec3-ee6e41a4d16c",
        "colab": {
          "base_uri": "https://localhost:8080/",
          "height": 88
        }
      },
      "cell_type": "code",
      "source": [
        "from os import path\n",
        "from wheel.pep425tags import get_abbr_impl, get_impl_ver, get_abi_tag\n",
        "platform = '{}{}-{}'.format(get_abbr_impl(), get_impl_ver(), get_abi_tag())\n",
        "\n",
        "accelerator = 'cu80' if path.exists('/opt/bin/nvidia-smi') else 'cpu'\n",
        "\n",
        "!pip install -q http://download.pytorch.org/whl/{accelerator}/torch-0.4.0-{platform}-linux_x86_64.whl torchvision\n",
        "import torch\n",
        "print(torch.__version__)\n",
        "print(torch.cuda.is_available())"
      ],
      "execution_count": 1,
      "outputs": [
        {
          "output_type": "stream",
          "text": [
            "tcmalloc: large alloc 1073750016 bytes == 0x5b600000 @  0x7feca08ae2a4 0x591a07 0x5b5d56 0x502e9a 0x506859 0x502209 0x502f3d 0x506859 0x504c28 0x502540 0x502f3d 0x506859 0x504c28 0x502540 0x502f3d 0x506859 0x504c28 0x502540 0x502f3d 0x507641 0x502209 0x502f3d 0x506859 0x504c28 0x502540 0x502f3d 0x507641 0x504c28 0x502540 0x502f3d 0x507641\n",
            "0.4.0\n",
            "True\n"
          ],
          "name": "stdout"
        }
      ]
    },
    {
      "metadata": {
        "id": "uM9W5gX3WAJr",
        "colab_type": "code",
        "colab": {}
      },
      "cell_type": "code",
      "source": [
        "!pip -q uninstall Pillow -y\n",
        "\n",
        "!pip -q install Pillow"
      ],
      "execution_count": 0,
      "outputs": []
    },
    {
      "metadata": {
        "id": "AE_TWJD2AVkJ",
        "colab_type": "code",
        "outputId": "57ba7710-9e27-4a90-84d5-02d380ed63f4",
        "colab": {
          "base_uri": "https://localhost:8080/",
          "height": 34
        }
      },
      "cell_type": "code",
      "source": [
        "import PIL\n",
        "print(PIL.PILLOW_VERSION)\n",
        "import sys"
      ],
      "execution_count": 1,
      "outputs": [
        {
          "output_type": "stream",
          "text": [
            "5.3.0\n"
          ],
          "name": "stdout"
        }
      ]
    },
    {
      "metadata": {
        "id": "aHBHDehuqtkC",
        "colab_type": "code",
        "outputId": "2640ccee-4ef7-4e87-dbd0-602f4a0538e5",
        "colab": {
          "base_uri": "https://localhost:8080/",
          "height": 153
        }
      },
      "cell_type": "code",
      "source": [
        "# Un-squeeze a dimension\n",
        "x = torch.Tensor([1, 2, 3])\n",
        "print(x)\n",
        "print(x.shape)\n",
        "r = torch.unsqueeze(x, 0)       # Size: 1x3\n",
        "print(r)\n",
        "print(r.shape)\n",
        "r = torch.unsqueeze(x, 1)   \n",
        "print(r)\n",
        "print(r.shape)"
      ],
      "execution_count": 0,
      "outputs": [
        {
          "output_type": "stream",
          "text": [
            "tensor([ 1.,  2.,  3.])\n",
            "torch.Size([3])\n",
            "tensor([[ 1.,  2.,  3.]])\n",
            "torch.Size([1, 3])\n",
            "tensor([[ 1.],\n",
            "        [ 2.],\n",
            "        [ 3.]])\n",
            "torch.Size([3, 1])\n"
          ],
          "name": "stdout"
        }
      ]
    },
    {
      "metadata": {
        "id": "8NZbkhJJ2mLr",
        "colab_type": "code",
        "outputId": "ac37556e-3db9-490c-dce6-34d3cd024493",
        "colab": {
          "base_uri": "https://localhost:8080/",
          "height": 34
        }
      },
      "cell_type": "code",
      "source": [
        "input = torch.Tensor(2, 4, 3) # input: 2 x 4 x 3\n",
        "print(input.unsqueeze(3).size()) # prints - torch.size([1, 2, 4, 3])"
      ],
      "execution_count": 0,
      "outputs": [
        {
          "output_type": "stream",
          "text": [
            "torch.Size([2, 4, 3, 1])\n"
          ],
          "name": "stdout"
        }
      ]
    },
    {
      "metadata": {
        "id": "0pE2Z2ySDEQ7",
        "colab_type": "code",
        "outputId": "429f0bb3-8700-481a-88f1-a933454af31a",
        "colab": {
          "base_uri": "https://localhost:8080/",
          "height": 119
        }
      },
      "cell_type": "code",
      "source": [
        "!git clone https://github.com/stanimman/Fast_ai.git"
      ],
      "execution_count": 2,
      "outputs": [
        {
          "output_type": "stream",
          "text": [
            "Cloning into 'Fast_ai'...\n",
            "remote: Enumerating objects: 49, done.\u001b[K\n",
            "remote: Counting objects: 100% (49/49), done.\u001b[K\n",
            "remote: Compressing objects: 100% (44/44), done.\u001b[K\n",
            "remote: Total 49 (delta 14), reused 0 (delta 0), pack-reused 0\u001b[K\n",
            "Unpacking objects: 100% (49/49), done.\n"
          ],
          "name": "stdout"
        }
      ]
    },
    {
      "metadata": {
        "id": "pNY8trPDD8M_",
        "colab_type": "code",
        "colab": {}
      },
      "cell_type": "code",
      "source": [
        "import sys\n",
        "sys.path.append('/content/Fast_ai')\n",
        "from utils import *\n",
        "from image_classification_from_csv import *\n",
        "#import Fast_ai/"
      ],
      "execution_count": 0,
      "outputs": []
    },
    {
      "metadata": {
        "id": "M6Prx0t6AjWq",
        "colab_type": "code",
        "outputId": "f454bf02-33f8-420c-bcbf-063dc70ab7fa",
        "colab": {
          "base_uri": "https://localhost:8080/",
          "height": 394
        }
      },
      "cell_type": "code",
      "source": [
        "!pip install -q kaggle-cli\n",
        "!kg download -u 'stanimman' -p '****' -c 'dog-breed-identification'"
      ],
      "execution_count": 4,
      "outputs": [
        {
          "output_type": "stream",
          "text": [
            "/usr/local/lib/python3.6/dist-packages/mechanicalsoup/browser.py:37: UserWarning: No parser was explicitly specified, so I'm using the best available HTML parser for this system (\"lxml\"). This usually isn't a problem, but if you run this code on another system, or in a different virtual environment, it may use a different parser and behave differently.\n",
            "\n",
            "The code that caused this warning is on line 37 of the file /usr/local/lib/python3.6/dist-packages/mechanicalsoup/browser.py. To get rid of this warning, pass the additional argument 'features=\"lxml\"' to the BeautifulSoup constructor.\n",
            "\n",
            "  response.content, **soup_config)\n",
            "downloading https://www.kaggle.com/c/dog-breed-identification/download/labels.csv.zip\n",
            "\n",
            "labels.csv.zip 100% |################################| Time: 0:00:00 738.9 KiB/s\n",
            "\n",
            "downloading https://www.kaggle.com/c/dog-breed-identification/download/sample_submission.csv.zip\n",
            "\n",
            "sample_submission.csv.zip 100% |#####################| Time: 0:00:00 591.0 KiB/s\n",
            "\n",
            "downloading https://www.kaggle.com/c/dog-breed-identification/download/test.zip\n",
            "\n",
            "test.zip 100% |######################################| Time: 0:00:12  28.8 MiB/s\n",
            "\n",
            "downloading https://www.kaggle.com/c/dog-breed-identification/download/train.zip\n",
            "\n",
            "train.zip 100% |#####################################| Time: 0:00:11  29.4 MiB/s\n",
            "\n"
          ],
          "name": "stdout"
        }
      ]
    },
    {
      "metadata": {
        "id": "DNHzKBM4BHqE",
        "colab_type": "code",
        "outputId": "096ca679-9db7-4944-dccd-b4ca17df9a3e",
        "colab": {
          "base_uri": "https://localhost:8080/",
          "height": 51
        }
      },
      "cell_type": "code",
      "source": [
        "!ls"
      ],
      "execution_count": 5,
      "outputs": [
        {
          "output_type": "stream",
          "text": [
            "Fast_ai\t\tsample_data\t\t   test.zip\n",
            "labels.csv.zip\tsample_submission.csv.zip  train.zip\n"
          ],
          "name": "stdout"
        }
      ]
    },
    {
      "metadata": {
        "id": "GT5zssp8UoT-",
        "colab_type": "code",
        "colab": {}
      },
      "cell_type": "code",
      "source": [
        "!unzip -q labels.csv.zip\n",
        "!unzip -q train.zip"
      ],
      "execution_count": 0,
      "outputs": []
    },
    {
      "metadata": {
        "id": "hu1HNJI9UrrX",
        "colab_type": "code",
        "colab": {}
      },
      "cell_type": "code",
      "source": [
        "!unzip -q sample_submission.csv.zip"
      ],
      "execution_count": 0,
      "outputs": []
    },
    {
      "metadata": {
        "id": "uXVQKTvBWYDf",
        "colab_type": "code",
        "colab": {}
      },
      "cell_type": "code",
      "source": [
        "#%matplotlib inline\n",
        "import time\n",
        "import numpy as np\n",
        "import pandas as pd\n",
        "import datetime as dt\n",
        "import matplotlib.pyplot as plt\n",
        "from os import listdir, makedirs, getcwd, remove\n",
        "from os.path import isfile, join, abspath, exists, isdir, expanduser\n",
        "from PIL import Image\n",
        "import torch\n",
        "from torch.optim import lr_scheduler\n",
        "from torch.autograd import Variable\n",
        "from torch.utils.data import Dataset, DataLoader\n",
        "import torchvision\n",
        "from torchvision import transforms, datasets, models"
      ],
      "execution_count": 0,
      "outputs": []
    },
    {
      "metadata": {
        "id": "oqoUXOimVr93",
        "colab_type": "code",
        "colab": {}
      },
      "cell_type": "code",
      "source": [
        "!pip install -q pretrainedmodels\n",
        "import pretrainedmodels\n",
        "from image_classification_from_csv import *\n",
        "from sklearn.model_selection import train_test_split\n",
        "\n",
        "pd.set_option('display.max_rows', 500)"
      ],
      "execution_count": 0,
      "outputs": []
    },
    {
      "metadata": {
        "id": "ssnYEoy6vAsR",
        "colab_type": "code",
        "outputId": "f7a38ab3-75e6-4e88-a376-6cd050f6ba98",
        "colab": {
          "base_uri": "https://localhost:8080/",
          "height": 204
        }
      },
      "cell_type": "code",
      "source": [
        "data_dir = '/content'\n",
        "label_df = pd.read_csv(join(data_dir, 'labels.csv'))\n",
        "label_df.head()"
      ],
      "execution_count": 10,
      "outputs": [
        {
          "output_type": "execute_result",
          "data": {
            "text/html": [
              "<div>\n",
              "<style scoped>\n",
              "    .dataframe tbody tr th:only-of-type {\n",
              "        vertical-align: middle;\n",
              "    }\n",
              "\n",
              "    .dataframe tbody tr th {\n",
              "        vertical-align: top;\n",
              "    }\n",
              "\n",
              "    .dataframe thead th {\n",
              "        text-align: right;\n",
              "    }\n",
              "</style>\n",
              "<table border=\"1\" class=\"dataframe\">\n",
              "  <thead>\n",
              "    <tr style=\"text-align: right;\">\n",
              "      <th></th>\n",
              "      <th>id</th>\n",
              "      <th>breed</th>\n",
              "    </tr>\n",
              "  </thead>\n",
              "  <tbody>\n",
              "    <tr>\n",
              "      <th>0</th>\n",
              "      <td>000bec180eb18c7604dcecc8fe0dba07</td>\n",
              "      <td>boston_bull</td>\n",
              "    </tr>\n",
              "    <tr>\n",
              "      <th>1</th>\n",
              "      <td>001513dfcb2ffafc82cccf4d8bbaba97</td>\n",
              "      <td>dingo</td>\n",
              "    </tr>\n",
              "    <tr>\n",
              "      <th>2</th>\n",
              "      <td>001cdf01b096e06d78e9e5112d419397</td>\n",
              "      <td>pekinese</td>\n",
              "    </tr>\n",
              "    <tr>\n",
              "      <th>3</th>\n",
              "      <td>00214f311d5d2247d5dfe4fe24b2303d</td>\n",
              "      <td>bluetick</td>\n",
              "    </tr>\n",
              "    <tr>\n",
              "      <th>4</th>\n",
              "      <td>0021f9ceb3235effd7fcde7f7538ed62</td>\n",
              "      <td>golden_retriever</td>\n",
              "    </tr>\n",
              "  </tbody>\n",
              "</table>\n",
              "</div>"
            ],
            "text/plain": [
              "                                 id             breed\n",
              "0  000bec180eb18c7604dcecc8fe0dba07       boston_bull\n",
              "1  001513dfcb2ffafc82cccf4d8bbaba97             dingo\n",
              "2  001cdf01b096e06d78e9e5112d419397          pekinese\n",
              "3  00214f311d5d2247d5dfe4fe24b2303d          bluetick\n",
              "4  0021f9ceb3235effd7fcde7f7538ed62  golden_retriever"
            ]
          },
          "metadata": {
            "tags": []
          },
          "execution_count": 10
        }
      ]
    },
    {
      "metadata": {
        "id": "KLZHr_K9Wwle",
        "colab_type": "code",
        "outputId": "fb822bf8-cc01-4c36-ca69-4ce042df17d6",
        "colab": {
          "base_uri": "https://localhost:8080/",
          "height": 51
        }
      },
      "cell_type": "code",
      "source": [
        "train, valid = train_test_split(label_df, test_size = 0.2, stratify = label_df[\"breed\"])\n",
        "print(len(train[\"breed\"].unique()))\n",
        "print(len(valid[\"breed\"].unique()))\n",
        "train.to_csv(\"train.csv\", index = False)\n",
        "valid.to_csv(\"valid.csv\", index = False)"
      ],
      "execution_count": 11,
      "outputs": [
        {
          "output_type": "stream",
          "text": [
            "120\n",
            "120\n"
          ],
          "name": "stdout"
        }
      ]
    },
    {
      "metadata": {
        "id": "Emqixe6Ds9NG",
        "colab_type": "code",
        "colab": {}
      },
      "cell_type": "code",
      "source": [
        "data_transforms = {\n",
        "    'train': transforms.Compose([\n",
        "        transforms.Resize(256),\n",
        "        transforms.RandomCrop(224),\n",
        "        transforms.RandomHorizontalFlip(),\n",
        "        transforms.ColorJitter(brightness=0.1, contrast=0.1, saturation=0.1, hue=0.05),\n",
        "        transforms.RandomRotation(degrees=10, resample=False, expand=False, center=None),\n",
        "        transforms.ToTensor(),\n",
        "        transforms.Normalize([0.485, 0.456, 0.406], [0.229, 0.224, 0.225])\n",
        "    ]),\n",
        "    'valid': transforms.Compose([\n",
        "        transforms.Resize(256),\n",
        "        transforms.CenterCrop(224),\n",
        "        transforms.ToTensor(),\n",
        "        transforms.Normalize([0.485, 0.456, 0.406], [0.229, 0.224, 0.225])\n",
        "    ]),\n",
        "    'TTA': transforms.Compose([\n",
        "        transforms.Resize(256),\n",
        "        transforms.FiveCrop(224),\n",
        "        transforms.Lambda(lambda crops: \n",
        "                          torch.stack([transforms.Normalize([0.485, 0.456, 0.406], [0.229, 0.224, 0.225])\n",
        "                                       (transforms.ToTensor()(crop)) for crop in crops]))\n",
        "    ])\n",
        "}"
      ],
      "execution_count": 0,
      "outputs": []
    },
    {
      "metadata": {
        "id": "NVChCUMmcDM7",
        "colab_type": "code",
        "outputId": "4d9fbb34-ab48-4f30-ba0b-0d045e12cef4",
        "colab": {
          "base_uri": "https://localhost:8080/",
          "height": 34
        }
      },
      "cell_type": "code",
      "source": [
        "image_datasets = {\"train\": DatasetFromCsv(\"train.csv\", \"train/\", data_transforms[\"train\"]),\n",
        "                  \"valid\": DatasetFromCsv(\"valid.csv\", \"train/\", data_transforms[\"valid\"])}\n",
        "\n",
        "dataloaders = {x: DataLoader(image_datasets[x], batch_size=64, shuffle=True, num_workers=0)\n",
        "               for x in ['train', 'valid']}\n",
        "\n",
        "dataset_sizes = {x: len(image_datasets[x]) for x in ['train', 'valid']}\n",
        "dataset_sizes"
      ],
      "execution_count": 13,
      "outputs": [
        {
          "output_type": "execute_result",
          "data": {
            "text/plain": [
              "{'train': 8177, 'valid': 2045}"
            ]
          },
          "metadata": {
            "tags": []
          },
          "execution_count": 13
        }
      ]
    },
    {
      "metadata": {
        "id": "TlsHnL5OYOib",
        "colab_type": "code",
        "outputId": "1b4b5461-446c-4354-a464-16a037d4e98c",
        "colab": {
          "base_uri": "https://localhost:8080/",
          "height": 51
        }
      },
      "cell_type": "code",
      "source": [
        "model_name = 'resnext101_64x4d'\n",
        "model = pretrainedmodels.__dict__[model_name](num_classes=1000, pretrained='imagenet')\n",
        "\n",
        "# class_element = np.bincount(classes) # Useful to get value count"
      ],
      "execution_count": 14,
      "outputs": [
        {
          "output_type": "stream",
          "text": [
            "Downloading: \"http://data.lip6.fr/cadene/pretrainedmodels/resnext101_64x4d-e77a0586.pth\" to /root/.torch/models/resnext101_64x4d-e77a0586.pth\n",
            "100%|██████████| 334703243/334703243 [00:13<00:00, 25188418.33it/s]\n"
          ],
          "name": "stderr"
        }
      ]
    },
    {
      "metadata": {
        "id": "bavIc7WVI39n",
        "colab_type": "code",
        "colab": {}
      },
      "cell_type": "code",
      "source": [
        "num_classes = len(label_df[\"breed\"].unique())\n",
        "for param in model.parameters():\n",
        "    param.requires_grad = False\n",
        "    \n",
        "model.last_linear = nn.Linear(model.last_linear.in_features, num_classes)\n",
        "\n",
        "criterion = nn.CrossEntropyLoss()\n",
        "optimizer = optim.Adam(filter(lambda p: p.requires_grad, model.parameters()), lr=0.003)\n",
        "\n",
        "device = torch.device(\"cuda:0\" if torch.cuda.is_available() else \"cpu\")"
      ],
      "execution_count": 0,
      "outputs": []
    },
    {
      "metadata": {
        "id": "lohDoUAVa2TB",
        "colab_type": "code",
        "colab": {}
      },
      "cell_type": "code",
      "source": [
        "lr_find = lr_finder(model, criterion, optimizer, dataloaders, device)"
      ],
      "execution_count": 0,
      "outputs": []
    },
    {
      "metadata": {
        "id": "z2QPlW7Vp-qD",
        "colab_type": "code",
        "outputId": "187cbec0-40cf-47d8-f77d-0a71e7f9d953",
        "colab": {
          "base_uri": "https://localhost:8080/",
          "height": 34
        }
      },
      "cell_type": "code",
      "source": [
        "lr_find.fit()"
      ],
      "execution_count": 17,
      "outputs": [
        {
          "output_type": "stream",
          "text": [
            "[==============================                    ] 60%"
          ],
          "name": "stdout"
        }
      ]
    },
    {
      "metadata": {
        "id": "onXjFnVLsBi5",
        "colab_type": "code",
        "outputId": "0ab9e460-08a3-4101-d789-bacc2e3b198f",
        "colab": {
          "base_uri": "https://localhost:8080/",
          "height": 351
        }
      },
      "cell_type": "code",
      "source": [
        "lr_find.plot_lr()"
      ],
      "execution_count": 18,
      "outputs": [
        {
          "output_type": "display_data",
          "data": {
            "image/png": "[encoded data removed]",
            "text/plain": [
              "<matplotlib.figure.Figure at 0x7f72e0f982e8>"
            ]
          },
          "metadata": {
            "tags": []
          }
        }
      ]
    },
    {
      "metadata": {
        "id": "Rtsjing4XAsV",
        "colab_type": "code",
        "colab": {}
      },
      "cell_type": "code",
      "source": [
        "model = pretrainedmodels.__dict__[model_name](num_classes=1000, pretrained='imagenet')\n",
        "\n",
        "for param in model.parameters():\n",
        "    param.requires_grad = False\n",
        "    \n",
        "model.last_linear = nn.Linear(model.last_linear.in_features, num_classes)\n",
        "\n",
        "criterion = nn.CrossEntropyLoss()\n",
        "optimizer = optim.Adam(filter(lambda p: p.requires_grad, model.parameters()),lr=1e-2)"
      ],
      "execution_count": 0,
      "outputs": []
    },
    {
      "metadata": {
        "id": "NgMtnwnmYqeV",
        "colab_type": "code",
        "outputId": "56b0afcc-a6e9-4c8f-a20c-a0fec4c4f228",
        "colab": {
          "base_uri": "https://localhost:8080/",
          "height": 646
        }
      },
      "cell_type": "code",
      "source": [
        "model, _ = train_model(model, criterion, optimizer, dataloaders, \n",
        "                       device, dataset_sizes, num_classes, num_epochs = 5)"
      ],
      "execution_count": 20,
      "outputs": [
        {
          "output_type": "stream",
          "text": [
            "Epoch 1/5\n",
            "----------\n",
            "train[==================================================] 100%\n",
            "train Loss: 3.23883673872708 Acc: 0.5887244710774123\n",
            "valid[====================] 100%\n",
            "valid Loss: 1.284283773240367 Acc: 0.7691931540342297\n",
            "\n",
            "Epoch 2/5\n",
            "----------\n",
            "train[==================================================] 100%\n",
            "train Loss: 1.3972854832645383 Acc: 0.7631160572337043\n",
            "valid[====================] 100%\n",
            "valid Loss: 1.481438087076313 Acc: 0.7755501222493887\n",
            "\n",
            "Epoch 3/5\n",
            "----------\n",
            "train[==================================================] 100%\n",
            "train Loss: 1.322532624797161 Acc: 0.7940564999388529\n",
            "valid[====================] 100%\n",
            "valid Loss: 1.5176865191797755 Acc: 0.7970660146699265\n",
            "\n",
            "Epoch 4/5\n",
            "----------\n",
            "train[==================================================] 100%\n",
            "train Loss: 1.3147596259476926 Acc: 0.8127675186498716\n",
            "valid[====================] 100%\n",
            "valid Loss: 1.386635959527312 Acc: 0.8312958435207823\n",
            "\n",
            "Epoch 5/5\n",
            "----------\n",
            "train[==================================================] 100%\n",
            "train Loss: 1.3112946498856155 Acc: 0.8265867677632384\n",
            "valid[====================] 100%\n",
            "valid Loss: 1.4913302099792183 Acc: 0.8298288508557456\n",
            "\n",
            "Training complete in 42.0m 52.6937894821167s\n",
            "Best val Acc: 0.8312958435207823\n"
          ],
          "name": "stdout"
        }
      ]
    },
    {
      "metadata": {
        "id": "CWHHDDT7XXtn",
        "colab_type": "code",
        "colab": {}
      },
      "cell_type": "code",
      "source": [
        "optimizer = optim.Adam(filter(lambda p: p.requires_grad, model.parameters()), lr=0.001)\n",
        "scheduler = SGDR(optimizer = optimizer, T_max = 128)"
      ],
      "execution_count": 0,
      "outputs": []
    },
    {
      "metadata": {
        "id": "RBKbzVFZCOTO",
        "colab_type": "code",
        "outputId": "ec5f1547-db49-4673-b912-dea139ade631",
        "colab": {
          "base_uri": "https://localhost:8080/",
          "height": 646
        }
      },
      "cell_type": "code",
      "source": [
        "model, _ = train_model(model, criterion, optimizer, dataloaders, \n",
        "                       device, dataset_sizes, num_classes, scheduler, \n",
        "                       num_epochs = 5)"
      ],
      "execution_count": 22,
      "outputs": [
        {
          "output_type": "stream",
          "text": [
            "Epoch 1/5\n",
            "----------\n",
            "train[==================================================] 100%\n",
            "train Loss: 0.4836379512242442 Acc: 0.9081570258040846\n",
            "valid[====================] 100%\n",
            "valid Loss: 0.6782096292103998 Acc: 0.8865525672371637\n",
            "\n",
            "Epoch 2/5\n",
            "----------\n",
            "train[==================================================] 100%\n",
            "train Loss: 0.3734896697201472 Acc: 0.9245444539562186\n",
            "valid[====================] 100%\n",
            "valid Loss: 0.6784216512094792 Acc: 0.8909535452322738\n",
            "\n",
            "Epoch 3/5\n",
            "----------\n",
            "train[==================================================] 100%\n",
            "train Loss: 0.3588024158578813 Acc: 0.9254005136358078\n",
            "valid[====================] 100%\n",
            "valid Loss: 0.6704131338007584 Acc: 0.8924205378973105\n",
            "\n",
            "Epoch 4/5\n",
            "----------\n",
            "train[==================================================] 100%\n",
            "train Loss: 0.36950153908039113 Acc: 0.922220863397334\n",
            "valid[====================] 100%\n",
            "valid Loss: 0.6521151457264255 Acc: 0.8904645476772616\n",
            "\n",
            "Epoch 5/5\n",
            "----------\n",
            "train[==================================================] 100%\n",
            "train Loss: 0.3300177990821663 Acc: 0.9295585177938119\n",
            "valid[====================] 100%\n",
            "valid Loss: 0.6451912674752308 Acc: 0.8924205378973105\n",
            "\n",
            "Training complete in 42.0m 53.42146873474121s\n",
            "Best val Acc: 0.8924205378973105\n"
          ],
          "name": "stdout"
        }
      ]
    },
    {
      "metadata": {
        "id": "VL7XKlqRXdgz",
        "colab_type": "code",
        "colab": {}
      },
      "cell_type": "code",
      "source": [
        "optimizer = optim.Adam(filter(lambda p: p.requires_grad, model.parameters()), lr=0.001)\n",
        "scheduler = SGDR(optimizer = optimizer, T_max = 128, cycle_mult = 2)"
      ],
      "execution_count": 0,
      "outputs": []
    },
    {
      "metadata": {
        "id": "hoNwfxsVD2qP",
        "colab_type": "code",
        "colab": {
          "base_uri": "https://localhost:8080/",
          "height": 884
        },
        "outputId": "51fa0958-1583-4479-875e-408af344eec3"
      },
      "cell_type": "code",
      "source": [
        "model, _ = train_model(model, criterion, optimizer, dataloaders, \n",
        "                       device, dataset_sizes, num_classes, scheduler, \n",
        "                       num_epochs = 7)"
      ],
      "execution_count": 25,
      "outputs": [
        {
          "output_type": "stream",
          "text": [
            "Epoch 1/7\n",
            "----------\n",
            "train[==================================================] 100%\n",
            "train Loss: 0.3561241630857959 Acc: 0.9235661000366883\n",
            "valid[====================] 100%\n",
            "valid Loss: 0.6613954946872366 Acc: 0.891442542787286\n",
            "\n",
            "Epoch 2/7\n",
            "----------\n",
            "train[==================================================] 100%\n",
            "train Loss: 0.3657299672094318 Acc: 0.9247890424361013\n",
            "valid[====================] 100%\n",
            "valid Loss: 0.6505411615290094 Acc: 0.8933985330073348\n",
            "\n",
            "Epoch 3/7\n",
            "----------\n",
            "train[==================================================] 100%\n",
            "train Loss: 0.28127152054966176 Acc: 0.9382414088296441\n",
            "valid[====================] 100%\n",
            "valid Loss: 0.629728045811863 Acc: 0.8929095354523227\n",
            "\n",
            "Epoch 4/7\n",
            "----------\n",
            "train[==================================================] 100%\n",
            "train Loss: 0.3457481951939239 Acc: 0.9263788675553382\n",
            "valid[====================] 100%\n",
            "valid Loss: 0.7015529119990275 Acc: 0.8860635696821515\n",
            "\n",
            "Epoch 5/7\n",
            "----------\n",
            "train[==================================================] 100%\n",
            "train Loss: 0.2971862083515299 Acc: 0.9367738779503486\n",
            "valid[====================] 100%\n",
            "valid Loss: 0.6443891585601863 Acc: 0.8943765281173593\n",
            "\n",
            "Epoch 6/7\n",
            "----------\n",
            "train[==================================================] 100%\n",
            "train Loss: 0.2307656351738867 Acc: 0.9415433533080593\n",
            "valid[====================] 100%\n",
            "valid Loss: 0.6124145846276529 Acc: 0.8977995110024449\n",
            "\n",
            "Epoch 7/7\n",
            "----------\n",
            "train[==================================================] 100%\n",
            "train Loss: 0.23526371438345525 Acc: 0.9443561208267091\n",
            "valid[====================] 100%\n",
            "valid Loss: 0.6069568779474366 Acc: 0.8977995110024449\n",
            "\n",
            "Training complete in 60.0m 3.2032113075256348s\n",
            "Best val Acc: 0.8977995110024449\n"
          ],
          "name": "stdout"
        }
      ]
    },
    {
      "metadata": {
        "id": "aQ2vjKx4aE7H",
        "colab_type": "code",
        "colab": {}
      },
      "cell_type": "code",
      "source": [
        "data_transforms = {\n",
        "    'train': transforms.Compose([\n",
        "        transforms.Resize(299),\n",
        "        transforms.RandomCrop(256),\n",
        "        transforms.RandomHorizontalFlip(),\n",
        "        transforms.ColorJitter(brightness=0.1, contrast=0.1, saturation=0.1, hue=0.05),\n",
        "        transforms.RandomRotation(degrees=10, resample=False, expand=False, center=None),\n",
        "        transforms.ToTensor(),\n",
        "        transforms.Normalize([0.485, 0.456, 0.406], [0.229, 0.224, 0.225])\n",
        "    ]),\n",
        "    'valid': transforms.Compose([\n",
        "        transforms.Resize(299),\n",
        "        transforms.CenterCrop(256),\n",
        "        transforms.ToTensor(),\n",
        "        transforms.Normalize([0.485, 0.456, 0.406], [0.229, 0.224, 0.225])\n",
        "    ]),\n",
        "    'TTA': transforms.Compose([\n",
        "        transforms.Resize(299),\n",
        "        transforms.FiveCrop(256),\n",
        "        transforms.Lambda(lambda crops: \n",
        "                          torch.stack([transforms.Normalize([0.485, 0.456, 0.406], [0.229, 0.224, 0.225])\n",
        "                                       (transforms.ToTensor()(crop)) for crop in crops]))\n",
        "    ])\n",
        "}"
      ],
      "execution_count": 0,
      "outputs": []
    },
    {
      "metadata": {
        "id": "fYxcNeJJebsR",
        "colab_type": "code",
        "colab": {}
      },
      "cell_type": "code",
      "source": [
        "model.avg_pool = nn.AdaptiveAvgPool2d(1)\n",
        "\n",
        "image_datasets = {\"train\": DatasetFromCsv(\"train.csv\", \"train/\", data_transforms[\"train\"]),\n",
        "                  \"valid\": DatasetFromCsv(\"valid.csv\", \"train/\", data_transforms[\"valid\"])}\n",
        "\n",
        "dataloaders = {x: DataLoader(image_datasets[x], batch_size=64, shuffle=True, num_workers=0)\n",
        "               for x in ['train', 'valid']}\n",
        "\n",
        "dataset_sizes = {x: len(image_datasets[x]) for x in ['train', 'valid']}\n",
        "\n",
        "criterion = nn.CrossEntropyLoss()\n",
        "\n",
        "optimizer = optim.Adam(filter(lambda p: p.requires_grad, model.parameters()), lr=0.001)\n",
        "scheduler = SGDR(optimizer = optimizer, T_max = 128, cycle_mult = 2)"
      ],
      "execution_count": 0,
      "outputs": []
    },
    {
      "metadata": {
        "id": "cXAg4JLSr_iO",
        "colab_type": "code",
        "colab": {
          "base_uri": "https://localhost:8080/",
          "height": 884
        },
        "outputId": "fcbe52bd-8b81-4807-d664-73a20fc319e6"
      },
      "cell_type": "code",
      "source": [
        "model, _ = train_model(model, criterion, optimizer, dataloaders, \n",
        "                       device, dataset_sizes, num_classes, scheduler, \n",
        "                       num_epochs = 7)"
      ],
      "execution_count": 31,
      "outputs": [
        {
          "output_type": "stream",
          "text": [
            "Epoch 1/7\n",
            "----------\n",
            "train[==================================================] 100%\n",
            "train Loss: 0.2548175657693544 Acc: 0.9367738779503486\n",
            "valid[====================] 100%\n",
            "valid Loss: 0.5298706752746787 Acc: 0.9061124694376528\n",
            "\n",
            "Epoch 2/7\n",
            "----------\n",
            "train[==================================================] 100%\n",
            "train Loss: 0.2634875771978074 Acc: 0.9400758224287636\n",
            "valid[====================] 100%\n",
            "valid Loss: 0.53506085282433 Acc: 0.9051344743276283\n",
            "\n",
            "Epoch 3/7\n",
            "----------\n",
            "train[==================================================] 100%\n",
            "train Loss: 0.18062719850511297 Acc: 0.9515714809832457\n",
            "valid[====================] 100%\n",
            "valid Loss: 0.5186945190348077 Acc: 0.9075794621026894\n",
            "\n",
            "Epoch 4/7\n",
            "----------\n",
            "train[==================================================] 100%\n",
            "train Loss: 0.2421385951288262 Acc: 0.9420325302678244\n",
            "valid[====================] 100%\n",
            "valid Loss: 0.5792948350419626 Acc: 0.8943765281173593\n",
            "\n",
            "Epoch 5/7\n",
            "----------\n",
            "train[==================================================] 100%\n",
            "train Loss: 0.23110693294891624 Acc: 0.9438669438669439\n",
            "valid[====================] 100%\n",
            "valid Loss: 0.5413056444713714 Acc: 0.8977995110024449\n",
            "\n",
            "Epoch 6/7\n",
            "----------\n",
            "train[==================================================] 100%\n",
            "train Loss: 0.17376693756106257 Acc: 0.9520606579430109\n",
            "valid[====================] 100%\n",
            "valid Loss: 0.5010246457563927 Acc: 0.9056234718826405\n",
            "\n",
            "Epoch 7/7\n",
            "----------\n",
            "train[==================================================] 100%\n",
            "train Loss: 0.15804460233422965 Acc: 0.9568301333007215\n",
            "valid[====================] 100%\n",
            "valid Loss: 0.5013920482694374 Acc: 0.9061124694376528\n",
            "\n",
            "Training complete in 75.0m 0.0009953975677490234s\n",
            "Best val Acc: 0.9075794621026894\n"
          ],
          "name": "stdout"
        }
      ]
    },
    {
      "metadata": {
        "id": "5E5Z2pkfelwl",
        "colab_type": "code",
        "colab": {}
      },
      "cell_type": "code",
      "source": [
        "torch.save(model.state_dict(), \"299_lastlayer.pt\")"
      ],
      "execution_count": 0,
      "outputs": []
    },
    {
      "metadata": {
        "id": "wkxHhnt3e4ea",
        "colab_type": "code",
        "colab": {}
      },
      "cell_type": "code",
      "source": [
        "# Not Sure why I need it\n",
        "# model = pretrainedmodels.__dict__[model_name](num_classes=1000, pretrained='imagenet')\n",
        "# model.last_linear = nn.Linear(model.last_linear.in_features, num_classes)\n",
        "# model.load_state_dict(torch.load('299_lastlayer.pt'))\n",
        "# for param in model.parameters():\n",
        "#     param.requires_grad = False\n",
        "# model.avg_pool = nn.AdaptiveAvgPool2d(1)"
      ],
      "execution_count": 0,
      "outputs": []
    },
    {
      "metadata": {
        "id": "UbeO00CnPlG4",
        "colab_type": "code",
        "colab": {
          "base_uri": "https://localhost:8080/",
          "height": 51
        },
        "outputId": "b8d31b47-b761-4c77-e1b3-9c527b18ffa0"
      },
      "cell_type": "code",
      "source": [
        "path = 'train/'\n",
        "file_path = 'valid.csv'\n",
        "tfm2 = data_transforms[\"valid\"]\n",
        "predictions = predict_fn(model, path, device, num_classes, transform = tfm2, \n",
        "                         file_path = file_path, TTA = False, mode = \"valid\", \n",
        "                         batch_size = 64, suffix = \".jpg\")"
      ],
      "execution_count": 34,
      "outputs": [
        {
          "output_type": "stream",
          "text": [
            "[==================================================] 100%\n",
            "Time taken for prediction 2.0m 9.730500221252441s\n"
          ],
          "name": "stdout"
        }
      ]
    },
    {
      "metadata": {
        "id": "ADnYf9RHP4-5",
        "colab_type": "code",
        "colab": {
          "base_uri": "https://localhost:8080/",
          "height": 34
        },
        "outputId": "736f94f2-399a-40c0-9abb-cdbd39534a7d"
      },
      "cell_type": "code",
      "source": [
        "probs = predictions[\"log_pred\"]\n",
        "preds = np.argmax(predictions[\"log_pred\"], axis=1)\n",
        "val_y = np.array(predictions[\"val_y\"])\n",
        "img_names = predictions[\"img_names\"]\n",
        "classes = predictions[\"classes\"]\n",
        "print(accuracy_score(val_y, preds))"
      ],
      "execution_count": 35,
      "outputs": [
        {
          "output_type": "stream",
          "text": [
            "0.9075794621026895\n"
          ],
          "name": "stdout"
        }
      ]
    },
    {
      "metadata": {
        "id": "PgbDo4xugmR3",
        "colab_type": "text"
      },
      "cell_type": "markdown",
      "source": [
        "#Validate using TTA"
      ]
    },
    {
      "metadata": {
        "id": "KxHPI6N2gvEH",
        "colab_type": "code",
        "colab": {
          "base_uri": "https://localhost:8080/",
          "height": 34
        },
        "outputId": "3b0ba93a-0811-4ac7-a019-4615984582a3"
      },
      "cell_type": "code",
      "source": [
        "probs = predictions[\"log_pred\"]\n",
        "preds = np.argmax(predictions[\"log_pred\"], axis=1)\n",
        "val_y = np.array(predictions[\"val_y\"])\n",
        "img_names = predictions[\"img_names\"]\n",
        "classes = predictions[\"classes\"]\n",
        "print(accuracy_score(val_y, preds))"
      ],
      "execution_count": 36,
      "outputs": [
        {
          "output_type": "stream",
          "text": [
            "0.9075794621026895\n"
          ],
          "name": "stdout"
        }
      ]
    },
    {
      "metadata": {
        "id": "KVA7fcXhgyyL",
        "colab_type": "code",
        "colab": {}
      },
      "cell_type": "code",
      "source": [
        ""
      ],
      "execution_count": 0,
      "outputs": []
    }
  ]
}